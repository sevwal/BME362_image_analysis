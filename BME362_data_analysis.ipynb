{
  "nbformat": 4,
  "nbformat_minor": 0,
  "metadata": {
    "colab": {
      "provenance": [],
      "authorship_tag": "ABX9TyP0A8NDX9DNOiiFbPCR3lnj",
      "include_colab_link": true
    },
    "kernelspec": {
      "name": "python3",
      "display_name": "Python 3"
    },
    "language_info": {
      "name": "python"
    }
  },
  "cells": [
    {
      "cell_type": "markdown",
      "metadata": {
        "id": "view-in-github",
        "colab_type": "text"
      },
      "source": [
        "<a href=\"https://colab.research.google.com/github/sevwal/BME362_image_analysis/blob/main/BME362_data_analysis.ipynb\" target=\"_parent\"><img src=\"https://colab.research.google.com/assets/colab-badge.svg\" alt=\"Open In Colab\"/></a>"
      ]
    },
    {
      "cell_type": "markdown",
      "source": [
        "# **Data Analysis**\n",
        "You now have a large dataframe with many different variables. To answer our experiment question, we first think back to our experiment. **Remember**: What was the original goal of this experiment? What parameters do we need to answer this question? Where can you find these parameters?\n",
        "\n",
        "From your programming and data analysis courses you should remember that weshould first do some quality checks on our data. For this, we'll do some histograms to check the distribution of variables such as area, or signal intensities. What we are looking for is nicely distributed data. Outliers, or bimodal distribution may give us a hint what we need to filter or what went wrong."
      ],
      "metadata": {
        "id": "yyzfBqUaukQN"
      }
    },
    {
      "cell_type": "code",
      "execution_count": 1,
      "metadata": {
        "colab": {
          "base_uri": "https://localhost:8080/",
          "height": 166
        },
        "id": "ey2VPP1fuacU",
        "outputId": "63a58fac-8479-44aa-d5dc-ffec8138cd7b"
      },
      "outputs": [
        {
          "output_type": "error",
          "ename": "NameError",
          "evalue": "ignored",
          "traceback": [
            "\u001b[0;31m---------------------------------------------------------------------------\u001b[0m",
            "\u001b[0;31mNameError\u001b[0m                                 Traceback (most recent call last)",
            "\u001b[0;32m<ipython-input-1-c56e8ab8954b>\u001b[0m in \u001b[0;36m<module>\u001b[0;34m\u001b[0m\n\u001b[0;32m----> 1\u001b[0;31m \u001b[0mdd\u001b[0m \u001b[0;34m=\u001b[0m \u001b[0mpd\u001b[0m\u001b[0;34m.\u001b[0m\u001b[0mread_csv\u001b[0m\u001b[0;34m(\u001b[0m\u001b[0mos\u001b[0m\u001b[0;34m.\u001b[0m\u001b[0mpath\u001b[0m\u001b[0;34m.\u001b[0m\u001b[0mjoin\u001b[0m\u001b[0;34m(\u001b[0m\u001b[0mout_dir\u001b[0m\u001b[0;34m,\u001b[0m \u001b[0;34m\"combined_measurements.csv\"\u001b[0m\u001b[0;34m)\u001b[0m\u001b[0;34m)\u001b[0m\u001b[0;34m\u001b[0m\u001b[0;34m\u001b[0m\u001b[0m\n\u001b[0m",
            "\u001b[0;31mNameError\u001b[0m: name 'pd' is not defined"
          ]
        }
      ],
      "source": [
        "import seaborn as sns\n",
        "sns.set_theme(style=\"ticks\", palette=\"pastel\")\n",
        "\n",
        "dd = pd.read_csv(os.path.join(out_dir, \"combined_measurements.csv\"))"
      ]
    },
    {
      "cell_type": "code",
      "source": [
        "# To check for differences between our conditions\n",
        "# Compare the number of cells between wells\n",
        "sns.displot(data=dd, x=\"well\",\n",
        "    facet_kws=dict(margin_titles=True))"
      ],
      "metadata": {
        "id": "49oVtKKruqL6"
      },
      "execution_count": null,
      "outputs": []
    },
    {
      "cell_type": "markdown",
      "source": [
        "Clearly, there's many more cells that were segmented in well E05. Seems peculiar, so we should keep that in mind."
      ],
      "metadata": {
        "id": "OKqkBmtQutOQ"
      }
    },
    {
      "cell_type": "code",
      "source": [
        "# To check for differences in segmentation between wells\n",
        "# Compare the size of cells between wells\n",
        "sns.displot(data=dd, x=\"area\", col=\"well\",\n",
        "    facet_kws=dict(margin_titles=True),\n",
        ")"
      ],
      "metadata": {
        "id": "E-9f9Ncfuto0"
      },
      "execution_count": null,
      "outputs": []
    },
    {
      "cell_type": "markdown",
      "source": [
        "We can see that this large difference in the number of cells between wells D05 and E05 stems from a large number of very small cells being present in well E05. We see that their size is close to 0, and barely any cells of that size are present in well D05. This hints that these cells were missegmented. \n",
        "\n",
        "We don't know why, but it might be that cells were more confluent, there was a lot of debris, or our image quality was just bad. If you take a look at some images from well E05 you might notice that the signal intensity is pretty bad for some sites. This indicates to me that something went wrong during image acquisition, like the autofocus messing up.\n",
        "\n",
        "Moreover, some cells might also be mitotic. For mitotic cells, we would expect them to have a high mean DAPI intensity, as they are dividing and have high DNA content. They are also a lot smaller and elongated (or: more elliptical than regular cells/nuclei).\n",
        "\n",
        "Now for debris, we would expect that signal to be small and spotty, i.e. more perfectly round than a cell should be.\n",
        "\n",
        "We can test our assumption with one more plot:"
      ],
      "metadata": {
        "id": "o-L0uUDouy1r"
      }
    },
    {
      "cell_type": "code",
      "source": [
        "sns.relplot(data=dd, x=\"area\", y=\"eccentricity\", hue=\"mean_intensity-0\", alpha=0.4)"
      ],
      "metadata": {
        "id": "oqliM1uluulT"
      },
      "execution_count": null,
      "outputs": []
    },
    {
      "cell_type": "markdown",
      "source": [
        "What have we done here? We plotted eccentricity vs area and used the mean DAPI intensity as a hue. Eccentricity is the ratio of the distance between two focal points over the length of the major axis. If eccentricity = 1 it is a perfect circle.\n",
        "\n",
        "We can see three things:\n",
        " \n",
        "\n",
        "1.   A large population of cells with a similarly low mean DAPI intensity (< 15'000) that is spread in both eccentricity and area.\n",
        "2.   A second population of very small cells (area ~0) with high intensity (> 30'000).\n",
        "3.   A third population of almost perfectly round cells (eccentricity == 1) with high intensity.\n",
        "\n",
        "Recall what we said about mitotic cells and debris. Our second population probably represents mitotic cells, while the third corresponds to debris.\n",
        "\n",
        "In our next step we will thus filter cells for eccentricity and area. Not only will we filter for small cells, we will also filter for very large cells (where several cells were combined into one, see histogram above).\n",
        "\n"
      ],
      "metadata": {
        "id": "juEA8jnqu2SE"
      }
    },
    {
      "cell_type": "code",
      "source": [
        "dd_filtered = dd[(dd[\"area\"]>=650) & (dd[\"area\"]<=7500) & (dd[\"eccentricity\"]<=0.95)]\n",
        "\n",
        "sns.displot(data=dd_filtered, x=\"area\", col=\"well\",\n",
        "    facet_kws=dict(margin_titles=True),\n",
        ")\n",
        "\n",
        "sns.relplot(data=dd_filtered, x=\"area\", y=\"eccentricity\", hue=\"mean_intensity-0\", alpha=0.4)"
      ],
      "metadata": {
        "id": "liGHO-6tuujA"
      },
      "execution_count": null,
      "outputs": []
    },
    {
      "cell_type": "markdown",
      "source": [
        "So, with those quality checks settled, let's dig deeper. First we might ask, well how many cells do we have where transfection actually worked? GFP was the signal we used to check if transfection worked. So now we can create a new variable called `transfection`. This will be a binary (0 = no, 1 = yes) for each cell depending on whether it reached a GFP threshold or not (i.e. was transfected or not)."
      ],
      "metadata": {
        "id": "TXATL1V_u5iG"
      }
    },
    {
      "cell_type": "code",
      "source": [
        "dd_filtered[\"transfected\"] = np.where(dd_filtered[\"mean_intensity-1\"]>=1000, 1, 0) #1 if >=1000, 0 if <1000\n",
        "\n",
        "print(\"Transfection efficiency:\\n\")\n",
        "\n",
        "for well in wells:\n",
        "  t = dd_filtered.shape[0] #No. Total\n",
        "  p = dd_filtered[(dd_filtered[\"transfected\"]==1) & (dd_filtered[\"well\"]==well)].shape[0] #No. of transfected\n",
        "  n = dd_filtered[(dd_filtered[\"transfected\"]==0) & (dd_filtered[\"well\"]==well)].shape[0] #No. of non-transfected\n",
        "  print(\"Well %s\" % (well))\n",
        "  print(\"Total cells: %d\\nTransfected: %d\\nNon-transfected: %d\" % (t,p,n))\n",
        "  print(\"\\nTransfection Efficiency: \", p/t*100, \"%\\n\")"
      ],
      "metadata": {
        "id": "HMv7_fFMuudY"
      },
      "execution_count": null,
      "outputs": []
    },
    {
      "cell_type": "code",
      "source": [
        "sns.boxplot(data=dd_filtered, x=\"well\", y=\"mean_intensity-1\")"
      ],
      "metadata": {
        "id": "hgvYN3U7uua5"
      },
      "execution_count": null,
      "outputs": []
    },
    {
      "cell_type": "code",
      "source": [],
      "metadata": {
        "id": "UTlADvnjuuXu"
      },
      "execution_count": null,
      "outputs": []
    },
    {
      "cell_type": "code",
      "source": [],
      "metadata": {
        "id": "I2XV_8cRuuR9"
      },
      "execution_count": null,
      "outputs": []
    },
    {
      "cell_type": "code",
      "source": [],
      "metadata": {
        "id": "-ex9ig87uuMp"
      },
      "execution_count": null,
      "outputs": []
    },
    {
      "cell_type": "code",
      "source": [],
      "metadata": {
        "id": "ZzDJwjyaut-6"
      },
      "execution_count": null,
      "outputs": []
    }
  ]
}